{
 "cells": [
  {
   "cell_type": "markdown",
   "id": "6b154f50",
   "metadata": {},
   "source": [
    "<h2 align=\"center\" style=\"color:purple\">Phase 2: AtliQ0 Bank Credit Card Project</h2>"
   ]
  },
  {
   "cell_type": "markdown",
   "id": "f3f06109",
   "metadata": {},
   "source": [
    "### Business Analysis and launch of AB testing: Targeting Untapped Market\n",
    "\n",
    "### Insights specific to customers with age group of 18 - 25\n",
    "1. People with age group of 18 -25 accounts to ~25% of customer base in the data\n",
    "2. Avg annual income of this age group is less than 50k\n",
    "3. They don't have much credit history which is getting reflected in their credit score and max credit limit \n",
    "4. Usage of credit cards as payment type is relatively low compared to other groups\n",
    "5. Avg transaction amount made with credit cards is also low compared to other groups\n",
    "5. Top 3 most used shopping products categories  : Electronics, Fashion & Apparel, Beauty & Personal care"
   ]
  },
  {
   "cell_type": "markdown",
   "id": "c0276ee6",
   "metadata": {},
   "source": [
    "!Analysis Image](analysis.png) \n"
   ]
  },
  {
   "cell_type": "markdown",
   "id": "9a38309b",
   "metadata": {},
   "source": [
    "## (1) Pre-Campaign\n",
    "\n",
    "We want to do a trial run for our new credit card. For this we need to figure out (1) How many customers do we need for our A/B testing. We will form a control and test group. For both of these groups we can figure out number of customers we need based on the statistical power and effect size that we agree upon after discussing with business. We will use "
   ]
  },
  {
   "cell_type": "code",
   "execution_count": 14,
   "id": "75c81bea",
   "metadata": {},
   "outputs": [],
   "source": [
    "#import required libraries\n",
    "import statsmodels.stats.api as sms\n",
    "import statsmodels.api as sm\n",
    "import pandas as pd\n",
    "import numpy as np\n",
    "from scipy import stats as st\n",
    "from matplotlib import pyplot as plt\n",
    "import seaborn as sns"
   ]
  },
  {
   "cell_type": "code",
   "execution_count": 15,
   "id": "0fe02ddd",
   "metadata": {
    "scrolled": true
   },
   "outputs": [
    {
     "data": {
      "text/plain": [
       "393.4056930002514"
      ]
     },
     "execution_count": 15,
     "metadata": {},
     "output_type": "execute_result"
    }
   ],
   "source": [
    "alpha=0.05   #significance level\n",
    "power=0.8\n",
    "effect_size=0.2\n",
    "\n",
    "sms.tt_ind_solve_power(\n",
    "    effect_size=effect_size,\n",
    "    alpha=alpha,\n",
    "    power=power,\n",
    "    ratio=1,\n",
    "    alternative='two-sided'\n",
    ")"
   ]
  },
  {
   "cell_type": "markdown",
   "id": "d32f4efa",
   "metadata": {},
   "source": [
    "For effect size 2 we need 393 customers. We have to keep in mind budgeting restrictions while running this campaign hence let us run this for different effect sizes and discuss with business to find out which sample size would be optimal"
   ]
  },
  {
   "cell_type": "code",
   "execution_count": 16,
   "id": "115a8636",
   "metadata": {},
   "outputs": [
    {
     "name": "stdout",
     "output_type": "stream",
     "text": [
      "Effect Size: 0.1, Required Sample Size: 1571 customers\n",
      "Effect Size: 0.2, Required Sample Size: 393 customers\n",
      "Effect Size: 0.3, Required Sample Size: 175 customers\n",
      "Effect Size: 0.4, Required Sample Size: 99 customers\n",
      "Effect Size: 0.5, Required Sample Size: 64 customers\n",
      "Effect Size: 1, Required Sample Size: 17 customers\n"
     ]
    }
   ],
   "source": [
    "# calculate the required sample size for different effect sizes\n",
    "effect_sizes=[0.1,0.2,0.3,0.4,0.5,1]\n",
    "\n",
    "for effect_size in effect_sizes:\n",
    "    sample_size=sms.tt_ind_solve_power(\n",
    "        effect_size=effect_size,\n",
    "        alpha=alpha,\n",
    "        power=power,\n",
    "        ratio=1,\n",
    "        alternative='two-sided'\n",
    "    )\n",
    "    print(f\"Effect Size: {effect_size}, Required Sample Size: {sample_size:.0f} customers\")"
   ]
  },
  {
   "cell_type": "markdown",
   "id": "d4d144ef",
   "metadata": {},
   "source": [
    "Based on business requirements, the test should be capable of detecting a minimum 0.4 standard deviation difference between the control and test groups. For the effect size 0.4, we need 100 customers and when we discussed with business, 100 customers is ok in terms of their budgeting constraints for this trail run"
   ]
  },
  {
   "cell_type": "markdown",
   "id": "a1293528",
   "metadata": {},
   "source": [
    "#### Forming control and test groups\n",
    "\n",
    "1.We have identified approximately 246 customers within the age group of 18 to 25. From this pool, we will select 100 customers for the initial campaign launch.\n",
    "\n",
    "2.The campaign is launched for 100 customers, as determined by the effective size calculation and by considering budgeting costs, and will run campaign for a duration of 2 months\n",
    "\n",
    "3.Got a conversion rate of ~40% ( implies 40 out of 100 customers in test group started using credit card)\n",
    "\n",
    "4.To maintain a similar sample size, a control group consisting of 40 customers will be created. Importantly, this control group will be completely exclusive of initial 100 customers used as test group.\n",
    "\n",
    "5.So now we have 40 customers in each of control and test groups"
   ]
  },
  {
   "cell_type": "markdown",
   "id": "84bf62c9",
   "metadata": {},
   "source": [
    "##### At the end of the 2-month campaign period (from 09-10-23 to 11-10-23), we obtained daily data showing the average transaction amounts made by the entire group of 40 customers in both the control and test groups using existing and newly launched credit cards respectively\n",
    "\n",
    "##### The key performance indicator (KPI) for this AB test aims to enhance average transaction amounts facilitated by the new card"
   ]
  },
  {
   "cell_type": "markdown",
   "id": "97b7bc4f",
   "metadata": {},
   "source": [
    "## (2) Post-Campaign"
   ]
  },
  {
   "cell_type": "markdown",
   "id": "2dd8c69d",
   "metadata": {},
   "source": [
    "## Two Sample Z Test for Our Hypothesis Testing"
   ]
  },
  {
   "cell_type": "code",
   "execution_count": 30,
   "id": "fd866e98",
   "metadata": {
    "scrolled": true
   },
   "outputs": [
    {
     "data": {
      "text/html": [
       "<div>\n",
       "<style scoped>\n",
       "    .dataframe tbody tr th:only-of-type {\n",
       "        vertical-align: middle;\n",
       "    }\n",
       "\n",
       "    .dataframe tbody tr th {\n",
       "        vertical-align: top;\n",
       "    }\n",
       "\n",
       "    .dataframe thead th {\n",
       "        text-align: right;\n",
       "    }\n",
       "</style>\n",
       "<table border=\"1\" class=\"dataframe\">\n",
       "  <thead>\n",
       "    <tr style=\"text-align: right;\">\n",
       "      <th></th>\n",
       "      <th>campaign_date</th>\n",
       "      <th>control_group_avg_tran</th>\n",
       "      <th>test_group_avg_tran</th>\n",
       "    </tr>\n",
       "  </thead>\n",
       "  <tbody>\n",
       "    <tr>\n",
       "      <th>57</th>\n",
       "      <td>2023-11-06</td>\n",
       "      <td>255.70</td>\n",
       "      <td>140.61</td>\n",
       "    </tr>\n",
       "    <tr>\n",
       "      <th>58</th>\n",
       "      <td>2023-11-07</td>\n",
       "      <td>220.29</td>\n",
       "      <td>258.46</td>\n",
       "    </tr>\n",
       "    <tr>\n",
       "      <th>59</th>\n",
       "      <td>2023-11-08</td>\n",
       "      <td>204.72</td>\n",
       "      <td>249.35</td>\n",
       "    </tr>\n",
       "    <tr>\n",
       "      <th>60</th>\n",
       "      <td>2023-11-09</td>\n",
       "      <td>233.68</td>\n",
       "      <td>238.77</td>\n",
       "    </tr>\n",
       "    <tr>\n",
       "      <th>61</th>\n",
       "      <td>2023-11-10</td>\n",
       "      <td>206.80</td>\n",
       "      <td>221.60</td>\n",
       "    </tr>\n",
       "  </tbody>\n",
       "</table>\n",
       "</div>"
      ],
      "text/plain": [
       "   campaign_date  control_group_avg_tran  test_group_avg_tran\n",
       "57    2023-11-06                  255.70               140.61\n",
       "58    2023-11-07                  220.29               258.46\n",
       "59    2023-11-08                  204.72               249.35\n",
       "60    2023-11-09                  233.68               238.77\n",
       "61    2023-11-10                  206.80               221.60"
      ]
     },
     "execution_count": 30,
     "metadata": {},
     "output_type": "execute_result"
    }
   ],
   "source": [
    "# Loading campaign results data\n",
    "df = pd.read_csv('avg_transactions_after_campaign.csv')\n",
    "df.tail()"
   ]
  },
  {
   "cell_type": "code",
   "execution_count": 31,
   "id": "008b0cd6",
   "metadata": {},
   "outputs": [
    {
     "data": {
      "text/plain": [
       "(62, 3)"
      ]
     },
     "execution_count": 31,
     "metadata": {},
     "output_type": "execute_result"
    }
   ],
   "source": [
    "df.shape"
   ]
  },
  {
   "cell_type": "code",
   "execution_count": 32,
   "id": "b8c960d9",
   "metadata": {
    "scrolled": true
   },
   "outputs": [
    {
     "data": {
      "image/png": "[encoded data removed]",
      "text/plain": [
       "<Figure size 1100x300 with 2 Axes>"
      ]
     },
     "metadata": {},
     "output_type": "display_data"
    }
   ],
   "source": [
    "# Let's look at distributions of avg transactions amounts in both groups\n",
    "# Create a 1x2 grid of subplots\n",
    "fig, (ax1, ax2) = plt.subplots(1, 2, figsize=(11, 3))\n",
    "\n",
    "# Plot the distribution of Campaign A Sales\n",
    "sns.histplot(df['control_group_avg_tran'], kde=True, color='skyblue', label='Control group avg transaction amounts', ax=ax1)\n",
    "ax1.set_xlabel('Sales')\n",
    "ax1.set_ylabel('Frequency')\n",
    "ax1.set_title('Distribution of Control group avg transaction amounts')\n",
    "ax1.legend()\n",
    "\n",
    "# Plot the distribution of Campaign B Sales\n",
    "sns.histplot(df['test_group_avg_tran'], kde=True, color='lightgreen', label='Test group avg transaction amounts', ax=ax2)\n",
    "ax2.set_xlabel('Sales')\n",
    "ax2.set_ylabel('Frequency')\n",
    "ax2.set_title('Distribution of test group avg transaction amounts')\n",
    "ax2.legend()\n",
    "\n",
    "# Show the plots\n",
    "plt.show()"
   ]
  },
  {
   "cell_type": "markdown",
   "id": "b20f2c8a",
   "metadata": {},
   "source": [
    "#### Perform Hypothesis Testing Using Two Sample Z-test"
   ]
  },
  {
   "cell_type": "code",
   "execution_count": 33,
   "id": "d3c3e640-3913-4ca3-975f-fe5d07ad6fe2",
   "metadata": {},
   "outputs": [
    {
     "data": {
      "text/html": [
       "<div>\n",
       "<style scoped>\n",
       "    .dataframe tbody tr th:only-of-type {\n",
       "        vertical-align: middle;\n",
       "    }\n",
       "\n",
       "    .dataframe tbody tr th {\n",
       "        vertical-align: top;\n",
       "    }\n",
       "\n",
       "    .dataframe thead th {\n",
       "        text-align: right;\n",
       "    }\n",
       "</style>\n",
       "<table border=\"1\" class=\"dataframe\">\n",
       "  <thead>\n",
       "    <tr style=\"text-align: right;\">\n",
       "      <th></th>\n",
       "      <th>campaign_date</th>\n",
       "      <th>control_group_avg_tran</th>\n",
       "      <th>test_group_avg_tran</th>\n",
       "    </tr>\n",
       "  </thead>\n",
       "  <tbody>\n",
       "    <tr>\n",
       "      <th>3</th>\n",
       "      <td>2023-09-13</td>\n",
       "      <td>214.92</td>\n",
       "      <td>214.85</td>\n",
       "    </tr>\n",
       "    <tr>\n",
       "      <th>8</th>\n",
       "      <td>2023-09-18</td>\n",
       "      <td>265.13</td>\n",
       "      <td>212.60</td>\n",
       "    </tr>\n",
       "    <tr>\n",
       "      <th>9</th>\n",
       "      <td>2023-09-19</td>\n",
       "      <td>232.88</td>\n",
       "      <td>207.63</td>\n",
       "    </tr>\n",
       "    <tr>\n",
       "      <th>16</th>\n",
       "      <td>2023-09-26</td>\n",
       "      <td>222.95</td>\n",
       "      <td>213.30</td>\n",
       "    </tr>\n",
       "    <tr>\n",
       "      <th>22</th>\n",
       "      <td>2023-10-02</td>\n",
       "      <td>238.39</td>\n",
       "      <td>203.10</td>\n",
       "    </tr>\n",
       "    <tr>\n",
       "      <th>23</th>\n",
       "      <td>2023-10-03</td>\n",
       "      <td>253.95</td>\n",
       "      <td>234.26</td>\n",
       "    </tr>\n",
       "    <tr>\n",
       "      <th>25</th>\n",
       "      <td>2023-10-05</td>\n",
       "      <td>239.47</td>\n",
       "      <td>216.37</td>\n",
       "    </tr>\n",
       "    <tr>\n",
       "      <th>26</th>\n",
       "      <td>2023-10-06</td>\n",
       "      <td>200.70</td>\n",
       "      <td>166.70</td>\n",
       "    </tr>\n",
       "    <tr>\n",
       "      <th>27</th>\n",
       "      <td>2023-10-07</td>\n",
       "      <td>200.91</td>\n",
       "      <td>170.01</td>\n",
       "    </tr>\n",
       "    <tr>\n",
       "      <th>28</th>\n",
       "      <td>2023-10-08</td>\n",
       "      <td>188.30</td>\n",
       "      <td>150.27</td>\n",
       "    </tr>\n",
       "    <tr>\n",
       "      <th>29</th>\n",
       "      <td>2023-10-09</td>\n",
       "      <td>247.11</td>\n",
       "      <td>164.00</td>\n",
       "    </tr>\n",
       "    <tr>\n",
       "      <th>35</th>\n",
       "      <td>2023-10-15</td>\n",
       "      <td>240.27</td>\n",
       "      <td>238.30</td>\n",
       "    </tr>\n",
       "    <tr>\n",
       "      <th>39</th>\n",
       "      <td>2023-10-19</td>\n",
       "      <td>223.90</td>\n",
       "      <td>196.84</td>\n",
       "    </tr>\n",
       "    <tr>\n",
       "      <th>44</th>\n",
       "      <td>2023-10-24</td>\n",
       "      <td>230.83</td>\n",
       "      <td>213.45</td>\n",
       "    </tr>\n",
       "    <tr>\n",
       "      <th>48</th>\n",
       "      <td>2023-10-28</td>\n",
       "      <td>229.18</td>\n",
       "      <td>222.29</td>\n",
       "    </tr>\n",
       "    <tr>\n",
       "      <th>49</th>\n",
       "      <td>2023-10-29</td>\n",
       "      <td>237.26</td>\n",
       "      <td>214.46</td>\n",
       "    </tr>\n",
       "    <tr>\n",
       "      <th>52</th>\n",
       "      <td>2023-11-01</td>\n",
       "      <td>265.45</td>\n",
       "      <td>169.98</td>\n",
       "    </tr>\n",
       "    <tr>\n",
       "      <th>57</th>\n",
       "      <td>2023-11-06</td>\n",
       "      <td>255.70</td>\n",
       "      <td>140.61</td>\n",
       "    </tr>\n",
       "  </tbody>\n",
       "</table>\n",
       "</div>"
      ],
      "text/plain": [
       "   campaign_date  control_group_avg_tran  test_group_avg_tran\n",
       "3     2023-09-13                  214.92               214.85\n",
       "8     2023-09-18                  265.13               212.60\n",
       "9     2023-09-19                  232.88               207.63\n",
       "16    2023-09-26                  222.95               213.30\n",
       "22    2023-10-02                  238.39               203.10\n",
       "23    2023-10-03                  253.95               234.26\n",
       "25    2023-10-05                  239.47               216.37\n",
       "26    2023-10-06                  200.70               166.70\n",
       "27    2023-10-07                  200.91               170.01\n",
       "28    2023-10-08                  188.30               150.27\n",
       "29    2023-10-09                  247.11               164.00\n",
       "35    2023-10-15                  240.27               238.30\n",
       "39    2023-10-19                  223.90               196.84\n",
       "44    2023-10-24                  230.83               213.45\n",
       "48    2023-10-28                  229.18               222.29\n",
       "49    2023-10-29                  237.26               214.46\n",
       "52    2023-11-01                  265.45               169.98\n",
       "57    2023-11-06                  255.70               140.61"
      ]
     },
     "execution_count": 33,
     "metadata": {},
     "output_type": "execute_result"
    }
   ],
   "source": [
    "df[df['control_group_avg_tran']>df['test_group_avg_tran']]"
   ]
  },
  {
   "cell_type": "code",
   "execution_count": 37,
   "id": "995e926f-c224-40eb-b836-3d09f74aa527",
   "metadata": {},
   "outputs": [
    {
     "data": {
      "text/plain": [
       "0.2903225806451613"
      ]
     },
     "execution_count": 37,
     "metadata": {},
     "output_type": "execute_result"
    }
   ],
   "source": [
    "df[df['control_group_avg_tran']>df['test_group_avg_tran']].shape[0]/df.shape[0]"
   ]
  },
  {
   "cell_type": "code",
   "execution_count": 47,
   "id": "f014b846",
   "metadata": {},
   "outputs": [
    {
     "data": {
      "text/plain": [
       "(np.float64(221.1751612903226), np.float64(21.35919211202701))"
      ]
     },
     "execution_count": 47,
     "metadata": {},
     "output_type": "execute_result"
    }
   ],
   "source": [
    "control_mean = df[\"control_group_avg_tran\"].mean()\n",
    "control_std = df[\"control_group_avg_tran\"].std()\n",
    "control_mean, control_std"
   ]
  },
  {
   "cell_type": "code",
   "execution_count": 49,
   "id": "fe26237a",
   "metadata": {},
   "outputs": [
    {
     "data": {
      "text/plain": [
       "(np.float64(235.9835483870968), np.float64(36.658082109186374))"
      ]
     },
     "execution_count": 49,
     "metadata": {},
     "output_type": "execute_result"
    }
   ],
   "source": [
    "test_mean = df[\"test_group_avg_tran\"].mean()\n",
    "test_std = df[\"test_group_avg_tran\"].std()\n",
    "test_mean, test_std"
   ]
  },
  {
   "cell_type": "code",
   "execution_count": 50,
   "id": "bf7f21dd",
   "metadata": {},
   "outputs": [
    {
     "data": {
      "text/plain": [
       "62"
      ]
     },
     "execution_count": 50,
     "metadata": {},
     "output_type": "execute_result"
    }
   ],
   "source": [
    "sample_size=df.shape[0]\n",
    "sample_size"
   ]
  },
  {
   "cell_type": "markdown",
   "id": "dd86ff22",
   "metadata": {},
   "source": [
    "### Test Using Rejection Region (i.e. Critical Z Value)"
   ]
  },
  {
   "cell_type": "code",
   "execution_count": 51,
   "id": "bad45efc",
   "metadata": {
    "scrolled": true
   },
   "outputs": [
    {
     "data": {
      "text/plain": [
       "np.float64(2.748297374569113)"
      ]
     },
     "execution_count": 51,
     "metadata": {},
     "output_type": "execute_result"
    }
   ],
   "source": [
    "a=test_std**2/sample_size\n",
    "b=control_std**2/sample_size\n",
    "z_score=(test_mean-control_mean)/np.sqrt(a+b)\n",
    "z_score"
   ]
  },
  {
   "cell_type": "code",
   "execution_count": 52,
   "id": "1c7b52a7",
   "metadata": {},
   "outputs": [
    {
     "data": {
      "text/plain": [
       "np.float64(1.644853626951472)"
      ]
     },
     "execution_count": 52,
     "metadata": {},
     "output_type": "execute_result"
    }
   ],
   "source": [
    "# For a significance level of 5% (0.05) in a right-tailed test, the critical Z-value is approximately 1.645\n",
    "z_critical_value=st.norm.ppf(1-alpha)\n",
    "z_critical_value"
   ]
  },
  {
   "cell_type": "code",
   "execution_count": 53,
   "id": "c2048e15",
   "metadata": {
    "scrolled": true
   },
   "outputs": [
    {
     "data": {
      "text/plain": [
       "np.True_"
      ]
     },
     "execution_count": 53,
     "metadata": {},
     "output_type": "execute_result"
    }
   ],
   "source": [
    "z_score>z_critical_value"
   ]
  },
  {
   "cell_type": "markdown",
   "id": "cb4a4b25",
   "metadata": {},
   "source": [
    "Since Z score is higher than critical Z value, we can reject the null hypothesis."
   ]
  },
  {
   "cell_type": "markdown",
   "id": "2cf3e76c",
   "metadata": {},
   "source": [
    "### Test Using p-Value"
   ]
  },
  {
   "cell_type": "code",
   "execution_count": 54,
   "id": "f522eb37",
   "metadata": {},
   "outputs": [
    {
     "data": {
      "text/plain": [
       "np.float64(0.0029952824622024865)"
      ]
     },
     "execution_count": 54,
     "metadata": {},
     "output_type": "execute_result"
    }
   ],
   "source": [
    "# Calculate the p-value corresponding to z score for a right-tailed test\n",
    "p_value=1-st.norm.cdf(z_score)\n",
    "p_value"
   ]
  },
  {
   "cell_type": "code",
   "execution_count": 55,
   "id": "7b12453c",
   "metadata": {},
   "outputs": [
    {
     "data": {
      "text/plain": [
       "np.True_"
      ]
     },
     "execution_count": 55,
     "metadata": {},
     "output_type": "execute_result"
    }
   ],
   "source": [
    "# p value is less than significance level of 5% (or 0.05 for absolute value)\n",
    "p_value<alpha"
   ]
  },
  {
   "cell_type": "markdown",
   "id": "4e47673a",
   "metadata": {},
   "source": [
    "Since p value is less than significance level (i.e. alpha), we can reject the null hypothesis."
   ]
  },
  {
   "cell_type": "markdown",
   "id": "bdd48ed2",
   "metadata": {},
   "source": [
    "### Using Ready Made API call"
   ]
  },
  {
   "cell_type": "markdown",
   "id": "217a03c1",
   "metadata": {},
   "source": [
    "1.We will now use stats module from statmodels for doing Z-test\n",
    "\n",
    "2.The order of passing control and test group data to sm.stats.ztest(test_data, control_data) defines the direction of the test and influences the test results.\n",
    "\n",
    "3.When you pass test group data first, z-test module assumes that alternative hypothesis as mean of the test group is greater than the mean of the control group and conversely if you switch the order z-test module assumes alternative hypothesis as control group average is more than test group \n",
    "\n",
    "4.In here we will be using order as sm.stats.ztest(test_group_data, control_group_data) based on our alternative hypothesis considered above.\n",
    "\n",
    "5.By default z-test module in statmodels performs two tailed test. As we are doing one-tailed test in our case based on the direction and alternate hypothesis we have to set \"alternative\" parameter.\n",
    "\n",
    "6.In out case based on test direction we will set \"alternative\" parameter to \"larger\"\n",
    "\n",
    "#### How to choose right Alternative parameter\n",
    "\n",
    "a.Two-tailed, meaning you are interested in identifying deviations across control and test groups in either direction \n",
    "\n",
    "b.larger, This is a one-tailed test, specifically looking for whether the first group is significantly larger than the second\n",
    "\n",
    "c.smaller, This is another one-tailed test, specifically looking for whether the first group is significantly smaller than the second\n",
    "\n",
    "\n",
    "![image.png](image.png)\n",
    "\n",
    "You can check more details about this z-test module and paramteres in here\n",
    "https://statsmodels.org/devel/generated/statsmodels.stats.weightstats.ztest.html"
   ]
  },
  {
   "cell_type": "code",
   "execution_count": 58,
   "id": "bff4675b",
   "metadata": {},
   "outputs": [
    {
     "data": {
      "text/plain": [
       "(np.float64(2.7482973745691135), np.float64(0.002995282462202502))"
      ]
     },
     "execution_count": 58,
     "metadata": {},
     "output_type": "execute_result"
    }
   ],
   "source": [
    "# Performing Z-test with above considerations\n",
    "z_stats,p_value=sm.stats.ztest(df['test_group_avg_tran'],df['control_group_avg_tran'],alternative='larger')\n",
    "z_stats,p_value"
   ]
  },
  {
   "cell_type": "code",
   "execution_count": 57,
   "id": "1c419357-81fa-4af2-9769-3576ab7a7b6d",
   "metadata": {},
   "outputs": [
    {
     "data": {
      "text/plain": [
       "(np.float64(226.85877713642867), np.float64(245.1083196377649))"
      ]
     },
     "execution_count": 57,
     "metadata": {},
     "output_type": "execute_result"
    }
   ],
   "source": [
    "test_group_CI=st.norm.interval(0.95,loc=test_mean,scale=test_std/np.sqrt(sample_size))\n",
    "test_group_CI\n",
    "# Confidence interval"
   ]
  }
 ],
 "metadata": {
  "kernelspec": {
   "display_name": "Python 3 (ipykernel)",
   "language": "python",
   "name": "python3"
  },
  "language_info": {
   "codemirror_mode": {
    "name": "ipython",
    "version": 3
   },
   "file_extension": ".py",
   "mimetype": "text/x-python",
   "name": "python",
   "nbconvert_exporter": "python",
   "pygments_lexer": "ipython3",
   "version": "3.12.8"
  }
 },
 "nbformat": 4,
 "nbformat_minor": 5
}
